{
 "cells": [
  {
   "cell_type": "code",
   "execution_count": 4,
   "metadata": {
    "collapsed": true,
    "ExecuteTime": {
     "start_time": "2023-04-19T15:49:30.535836Z",
     "end_time": "2023-04-19T15:49:30.540821Z"
    }
   },
   "outputs": [
    {
     "name": "stdout",
     "output_type": "stream",
     "text": [
      "MSE(t, y1)= 1.875\n",
      "MSE(t,y2)= 0.25\n"
     ]
    }
   ],
   "source": [
    "import numpy as np\n",
    "\n",
    "\n",
    "def MSE(y, t):\n",
    "    return np.sum((y - t) ** 2) / t.size\n",
    "\n",
    "\n",
    "t = np.array([1, 2, 3, 4])\n",
    "y1 = np.array([0.5, 1, 1.5, 2])\n",
    "print(\"MSE(t, y1)=\", MSE(t, y1))\n",
    "\n",
    "y2 = np.array([0.5, 1.5, 2.5, 3.5])\n",
    "print(\"MSE(t,y2)=\", MSE(t, y2))"
   ]
  },
  {
   "cell_type": "code",
   "execution_count": 5,
   "outputs": [
    {
     "name": "stdout",
     "output_type": "stream",
     "text": [
      "MSE(t, y1)= 1.875\n",
      "MSE(t, y2)= 0.25\n"
     ]
    }
   ],
   "source": [
    "import numpy as np\n",
    "import tensorflow as tf\n",
    "\n",
    "\n",
    "def MSE(y, t):\n",
    "    return tf.reduce_mean(tf.square(y - t))  #(y-t)**2\n",
    "\n",
    "\n",
    "t = np.array([1, 2, 3, 4])\n",
    "y1 = np.array([0.5, 1, 1.5, 2])\n",
    "\n",
    "print(\"MSE(t, y1)=\", MSE(t, y1).numpy())\n",
    "\n",
    "y2 = np.array([0.5, 1.5, 2.5, 3.5])\n",
    "print(\"MSE(t, y2)=\", MSE(t, y2).numpy())\n"
   ],
   "metadata": {
    "collapsed": false,
    "ExecuteTime": {
     "start_time": "2023-04-19T15:53:53.725425Z",
     "end_time": "2023-04-19T15:53:55.659252Z"
    }
   }
  },
  {
   "cell_type": "code",
   "execution_count": 6,
   "outputs": [
    {
     "name": "stdout",
     "output_type": "stream",
     "text": [
      "MSE(t, y1)= 1.875\n",
      "MSE(t, y2)= 0.25\n"
     ]
    }
   ],
   "source": [
    "import tensorflow as tf\n",
    "import numpy as np\n",
    "\n",
    "t = np.array([1, 2, 3, 4])\n",
    "y1 = np.array([0.5, 1, 1.5, 2])\n",
    "\n",
    "MSE = tf.keras.losses.MeanSquaredError()\n",
    "\n",
    "print(\"MSE(t, y1)=\", MSE(t, y1).numpy())\n",
    "\n",
    "y2 = np.array([0.5, 1.5, 2.5, 3.5])\n",
    "print(\"MSE(t, y2)=\", MSE(t, y2).numpy())\n"
   ],
   "metadata": {
    "collapsed": false,
    "ExecuteTime": {
     "start_time": "2023-04-19T16:01:27.263882Z",
     "end_time": "2023-04-19T16:01:27.285823Z"
    }
   }
  },
  {
   "cell_type": "code",
   "execution_count": null,
   "outputs": [],
   "source": [
    "#0601import numpy as np\n",
    "\n",
    "def MSE(y, t):\n",
    "    return np.sum((y - t) ** 2) / t.size\n",
    "\n",
    "\n",
    "x = np.arange(12)\n",
    "t = np.arange(12)\n",
    "\n",
    "w = 0.5\n",
    "b = 0\n",
    "lr = 0.001\n",
    "\n",
    "lost_list = []\n",
    "for epoch in range(200):\n",
    "    y = w * x + b\n"
   ],
   "metadata": {
    "collapsed": false
   }
  }
 ],
 "metadata": {
  "kernelspec": {
   "display_name": "Python 3",
   "language": "python",
   "name": "python3"
  },
  "language_info": {
   "codemirror_mode": {
    "name": "ipython",
    "version": 2
   },
   "file_extension": ".py",
   "mimetype": "text/x-python",
   "name": "python",
   "nbconvert_exporter": "python",
   "pygments_lexer": "ipython2",
   "version": "2.7.6"
  }
 },
 "nbformat": 4,
 "nbformat_minor": 0
}
