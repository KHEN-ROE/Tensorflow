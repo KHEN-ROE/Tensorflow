{
 "nbformat": 4,
 "nbformat_minor": 0,
 "metadata": {
  "colab": {
   "name": "Chapter3.ipynb",
   "provenance": [],
   "collapsed_sections": [],
   "toc_visible": true
  },
  "kernelspec": {
   "name": "python3",
   "language": "python",
   "display_name": "Python 3 (ipykernel)"
  }
 },
 "cells": [
  {
   "cell_type": "markdown",
   "metadata": {
    "id": "BCq2UCUvEkhh",
    "colab_type": "text"
   },
   "source": [
    "<시작하세요! 텐서플로 2.0 프로그래밍> 예제코드입니다.\n",
    "\n",
    "- 예제 코드를 실행하기 위해서는 [파일] > [드라이브에 사본 저장]으로 본인의 계정에 사본을 만든 다음 실행하면 됩니다.\n",
    "- 예제 코드는 [깃허브 저장소](https://github.com/wikibook/tf2)에서도 동일하게 제공됩니다. 예제에 대한 질문이나 책에 대한 질문은 깃허브 저장소의 [Issues](https://github.com/wikibook/tf2/issues)에 올려주세요.\n",
    "- 각 장의 예제 파일은 처음부터 끝까지 실행하는 상황을 가정하고 작성되었습니다. 혹시 세션이 다운되는 등의 이유로 실행이 되지 않는 경우가 있다면, 필요한 라이브러리를 import 하신 후에 실행하시면 됩니다. (tensorflow, numpy, pandas 등)"
   ]
  },
  {
   "cell_type": "markdown",
   "metadata": {
    "id": "aE3jL3tX0Vq0",
    "colab_type": "text"
   },
   "source": [
    "# 3.1 Hello World"
   ]
  },
  {
   "cell_type": "code",
   "metadata": {
    "id": "xiupWrsfvYxH",
    "colab_type": "code",
    "outputId": "801eeee5-d081-4596-bdcd-411fcdae551b",
    "executionInfo": {
     "status": "ok",
     "timestamp": 1573268825596,
     "user_tz": -540,
     "elapsed": 1320,
     "user": {
      "displayName": "Hwanhee Kim",
      "photoUrl": "https://lh3.googleusercontent.com/a-/AAuE7mAJC9PPBoQ91glDwFjxm3TlW5EqGy0BIAJ52D-ekw=s64",
      "userId": "04863080312902369470"
     }
    },
    "colab": {
     "base_uri": "https://localhost:8080/",
     "height": 35
    },
    "ExecuteTime": {
     "start_time": "2023-04-17T14:36:26.374934Z",
     "end_time": "2023-04-17T14:36:26.381915Z"
    }
   },
   "source": [
    "# 3.1 Hello World 프로그램\n",
    "print(\"Hello, World!\")"
   ],
   "execution_count": 3,
   "outputs": [
    {
     "name": "stdout",
     "output_type": "stream",
     "text": [
      "Hello, World!\n"
     ]
    }
   ]
  },
  {
   "cell_type": "code",
   "metadata": {
    "id": "9nuLn3boxiJR",
    "colab_type": "code",
    "outputId": "73757fea-f9f9-44c4-b9fb-145bf9b1c01a",
    "executionInfo": {
     "status": "error",
     "timestamp": 1573269048560,
     "user_tz": -540,
     "elapsed": 630,
     "user": {
      "displayName": "Hwanhee Kim",
      "photoUrl": "https://lh3.googleusercontent.com/a-/AAuE7mAJC9PPBoQ91glDwFjxm3TlW5EqGy0BIAJ52D-ekw=s64",
      "userId": "04863080312902369470"
     }
    },
    "colab": {
     "base_uri": "https://localhost:8080/",
     "height": 136
    }
   },
   "source": [
    "# 3.2 Hello World 프로그램 첫 줄의 # 를 지웠을 때 에러가 나는 모습\n",
    "3.1 Hello World\n",
    "print(\"Hello, World!\")"
   ],
   "execution_count": 5,
   "outputs": [
    {
     "ename": "SyntaxError",
     "evalue": "invalid syntax (98676332.py, line 2)",
     "output_type": "error",
     "traceback": [
      "\u001B[1;36m  Cell \u001B[1;32mIn[5], line 2\u001B[1;36m\u001B[0m\n\u001B[1;33m    3.1 Hello World\u001B[0m\n\u001B[1;37m        ^\u001B[0m\n\u001B[1;31mSyntaxError\u001B[0m\u001B[1;31m:\u001B[0m invalid syntax\n"
     ]
    }
   ]
  },
  {
   "cell_type": "code",
   "metadata": {
    "id": "jdV_7mr7xk85",
    "colab_type": "code",
    "outputId": "b69711a4-64ea-4c59-9e4b-8a882d673261",
    "executionInfo": {
     "status": "ok",
     "timestamp": 1557401161691,
     "user_tz": -540,
     "elapsed": 1040,
     "user": {
      "displayName": "Hwanhee Kim",
      "photoUrl": "https://lh6.googleusercontent.com/-nodxsDvEvZo/AAAAAAAAAAI/AAAAAAAABHE/Ybrj2myvr5Q/s64/photo.jpg",
      "userId": "04863080312902369470"
     }
    },
    "colab": {
     "base_uri": "https://localhost:8080/",
     "height": 35
    },
    "ExecuteTime": {
     "start_time": "2023-04-17T14:36:35.930443Z",
     "end_time": "2023-04-17T14:36:35.937434Z"
    }
   },
   "source": [
    "# 3.3 Hello World 프로그램 문자열의 따옴표(“)를 홑따옴표(‘)로 바꿈\n",
    "print('Hello, World!')"
   ],
   "execution_count": 6,
   "outputs": [
    {
     "name": "stdout",
     "output_type": "stream",
     "text": [
      "Hello, World!\n"
     ]
    }
   ]
  },
  {
   "cell_type": "markdown",
   "metadata": {
    "id": "0Rtekp0G0YL0",
    "colab_type": "text"
   },
   "source": [
    "# 3.2 Hello 텐서플로 2.0"
   ]
  },
  {
   "cell_type": "code",
   "metadata": {
    "id": "CklSGCkG2v22",
    "colab_type": "code",
    "outputId": "da686fd5-14f1-476b-c337-d13a9afe4874",
    "executionInfo": {
     "status": "ok",
     "timestamp": 1574604897916,
     "user_tz": -540,
     "elapsed": 8222,
     "user": {
      "displayName": "Hwanhee Kim",
      "photoUrl": "https://lh3.googleusercontent.com/a-/AAuE7mAJC9PPBoQ91glDwFjxm3TlW5EqGy0BIAJ52D-ekw=s64",
      "userId": "04863080312902369470"
     }
    },
    "colab": {
     "base_uri": "https://localhost:8080/",
     "height": 35
    },
    "ExecuteTime": {
     "start_time": "2023-04-17T14:38:18.158660Z",
     "end_time": "2023-04-17T14:38:20.413168Z"
    }
   },
   "source": [
    "# 3.4 텐서플로 2.0 버전 선택\n",
    "try:\n",
    "    # %tensorflow_version only exists in Colab.\n",
    "    %tensorflow_version 2.x\n",
    "except Exception:\n",
    "    pass\n",
    "import tensorflow as tf"
   ],
   "execution_count": 8,
   "outputs": []
  },
  {
   "cell_type": "code",
   "metadata": {
    "colab_type": "code",
    "outputId": "33e64265-e980-424b-eef4-41198d02d914",
    "executionInfo": {
     "status": "ok",
     "timestamp": 1573269556884,
     "user_tz": -540,
     "elapsed": 4647,
     "user": {
      "displayName": "Hwanhee Kim",
      "photoUrl": "https://lh3.googleusercontent.com/a-/AAuE7mAJC9PPBoQ91glDwFjxm3TlW5EqGy0BIAJ52D-ekw=s64",
      "userId": "04863080312902369470"
     }
    },
    "id": "1nyZokK7MKTd",
    "colab": {
     "base_uri": "https://localhost:8080/",
     "height": 35
    },
    "ExecuteTime": {
     "start_time": "2023-04-17T14:38:32.047045Z",
     "end_time": "2023-04-17T14:38:32.055022Z"
    }
   },
   "source": [
    "# Google Colab 운영체제 확인\n",
    "import platform\n",
    "print(platform.platform())"
   ],
   "execution_count": 9,
   "outputs": [
    {
     "name": "stdout",
     "output_type": "stream",
     "text": [
      "Windows-10-10.0.18363-SP0\n"
     ]
    }
   ]
  },
  {
   "cell_type": "code",
   "metadata": {
    "id": "ksLZERzR3n29",
    "colab_type": "code",
    "outputId": "9f0df58b-dcd2-4191-8a5f-c019b6f610b2",
    "executionInfo": {
     "status": "ok",
     "timestamp": 1573269556885,
     "user_tz": -540,
     "elapsed": 3497,
     "user": {
      "displayName": "Hwanhee Kim",
      "photoUrl": "https://lh3.googleusercontent.com/a-/AAuE7mAJC9PPBoQ91glDwFjxm3TlW5EqGy0BIAJ52D-ekw=s64",
      "userId": "04863080312902369470"
     }
    },
    "colab": {
     "base_uri": "https://localhost:8080/",
     "height": 35
    },
    "ExecuteTime": {
     "start_time": "2023-04-17T14:38:36.451261Z",
     "end_time": "2023-04-17T14:38:36.459240Z"
    }
   },
   "source": [
    "# 3.5 텐서플로우 불러오기, 버전 확인\n",
    "import tensorflow as tf\n",
    "print(tf.__version__)"
   ],
   "execution_count": 10,
   "outputs": [
    {
     "name": "stdout",
     "output_type": "stream",
     "text": [
      "2.12.0\n"
     ]
    }
   ]
  },
  {
   "cell_type": "code",
   "metadata": {
    "id": "rY7Wy7VXCRQn",
    "colab_type": "code",
    "outputId": "bc5ca21f-0ed9-4a58-a9ce-bcac1abc778a",
    "executionInfo": {
     "status": "error",
     "timestamp": 1557401275585,
     "user_tz": -540,
     "elapsed": 3170,
     "user": {
      "displayName": "Hwanhee Kim",
      "photoUrl": "https://lh6.googleusercontent.com/-nodxsDvEvZo/AAAAAAAAAAI/AAAAAAAABHE/Ybrj2myvr5Q/s64/photo.jpg",
      "userId": "04863080312902369470"
     }
    },
    "colab": {
     "base_uri": "https://localhost:8080/",
     "height": 190
    }
   },
   "source": [
    "# 3.6 텐서플로우 불러오기, 버전 확인 에러\n",
    "import tensorflow as tf\n",
    "print(tensorflow.__version__)"
   ],
   "execution_count": 11,
   "outputs": [
    {
     "ename": "NameError",
     "evalue": "name 'tensorflow' is not defined",
     "output_type": "error",
     "traceback": [
      "\u001B[1;31m---------------------------------------------------------------------------\u001B[0m",
      "\u001B[1;31mNameError\u001B[0m                                 Traceback (most recent call last)",
      "Cell \u001B[1;32mIn[11], line 3\u001B[0m\n\u001B[0;32m      1\u001B[0m \u001B[38;5;66;03m# 3.6 텐서플로우 불러오기, 버전 확인 에러\u001B[39;00m\n\u001B[0;32m      2\u001B[0m \u001B[38;5;28;01mimport\u001B[39;00m \u001B[38;5;21;01mtensorflow\u001B[39;00m \u001B[38;5;28;01mas\u001B[39;00m \u001B[38;5;21;01mtf\u001B[39;00m\n\u001B[1;32m----> 3\u001B[0m \u001B[38;5;28mprint\u001B[39m(\u001B[43mtensorflow\u001B[49m\u001B[38;5;241m.\u001B[39m__version__)\n",
      "\u001B[1;31mNameError\u001B[0m: name 'tensorflow' is not defined"
     ]
    }
   ]
  },
  {
   "cell_type": "markdown",
   "metadata": {
    "id": "2ooF5dOI0cJc",
    "colab_type": "text"
   },
   "source": [
    "# 3.3 텐서플로 기초"
   ]
  },
  {
   "cell_type": "markdown",
   "metadata": {
    "id": "2dR8mqitUEfH",
    "colab_type": "text"
   },
   "source": [
    "## 3.3.1 랜덤한 수 생성"
   ]
  },
  {
   "cell_type": "code",
   "metadata": {
    "id": "Mq2AtFOl0hS1",
    "colab_type": "code",
    "outputId": "78da706a-e7f3-483a-c97d-0cfeb36c456d",
    "executionInfo": {
     "status": "ok",
     "timestamp": 1573269978631,
     "user_tz": -540,
     "elapsed": 765,
     "user": {
      "displayName": "Hwanhee Kim",
      "photoUrl": "https://lh3.googleusercontent.com/a-/AAuE7mAJC9PPBoQ91glDwFjxm3TlW5EqGy0BIAJ52D-ekw=s64",
      "userId": "04863080312902369470"
     }
    },
    "colab": {
     "base_uri": "https://localhost:8080/",
     "height": 35
    },
    "ExecuteTime": {
     "start_time": "2023-04-17T14:47:56.690022Z",
     "end_time": "2023-04-17T14:47:56.705647Z"
    }
   },
   "source": [
    "# 3.7 랜덤한 수 얻기 (균일 분포)\n",
    "rand = tf.random.uniform([1],0,1)\n",
    "print(rand)"
   ],
   "execution_count": 21,
   "outputs": [
    {
     "name": "stdout",
     "output_type": "stream",
     "text": [
      "tf.Tensor([0.45801115], shape=(1,), dtype=float32)\n"
     ]
    }
   ]
  },
  {
   "cell_type": "code",
   "metadata": {
    "id": "7Fb7DLjQ4i4C",
    "colab_type": "code",
    "outputId": "2017c692-0715-4efa-dd30-741f7c08ef71",
    "executionInfo": {
     "status": "ok",
     "timestamp": 1573270737911,
     "user_tz": -540,
     "elapsed": 650,
     "user": {
      "displayName": "Hwanhee Kim",
      "photoUrl": "https://lh3.googleusercontent.com/a-/AAuE7mAJC9PPBoQ91glDwFjxm3TlW5EqGy0BIAJ52D-ekw=s64",
      "userId": "04863080312902369470"
     }
    },
    "colab": {
     "base_uri": "https://localhost:8080/",
     "height": 35
    },
    "ExecuteTime": {
     "start_time": "2023-04-17T15:19:30.141295Z",
     "end_time": "2023-04-17T15:19:30.147278Z"
    }
   },
   "source": [
    "# 3.8 랜덤한 수 여러 개 얻기 (균일 분포)\n",
    "rand = tf.random.uniform([4],0,1) #정규분포에서 평균 0, 편차1\n",
    "print(rand)"
   ],
   "execution_count": 34,
   "outputs": [
    {
     "name": "stdout",
     "output_type": "stream",
     "text": [
      "tf.Tensor([0.79456806 0.05832255 0.5770601  0.55119956], shape=(4,), dtype=float32)\n"
     ]
    }
   ]
  },
  {
   "cell_type": "code",
   "metadata": {
    "id": "jcmeN0232BUz",
    "colab_type": "code",
    "outputId": "ba22b87c-3b20-4c94-913b-ff8bbb7bfae1",
    "executionInfo": {
     "status": "ok",
     "timestamp": 1574604904460,
     "user_tz": -540,
     "elapsed": 1368,
     "user": {
      "displayName": "Hwanhee Kim",
      "photoUrl": "https://lh3.googleusercontent.com/a-/AAuE7mAJC9PPBoQ91glDwFjxm3TlW5EqGy0BIAJ52D-ekw=s64",
      "userId": "04863080312902369470"
     }
    },
    "colab": {
     "base_uri": "https://localhost:8080/",
     "height": 35
    },
    "ExecuteTime": {
     "start_time": "2023-04-17T16:28:08.782487Z",
     "end_time": "2023-04-17T16:28:08.813764Z"
    }
   },
   "source": [
    "# 3.9 랜덤한 수 여러 개 얻기 (정규 분포)\n",
    "rand = tf.random.normal([4],0,1)\n",
    "print(rand)"
   ],
   "execution_count": 35,
   "outputs": [
    {
     "name": "stdout",
     "output_type": "stream",
     "text": [
      "tf.Tensor([ 0.68914515 -0.93718517 -1.0416186   1.226478  ], shape=(4,), dtype=float32)\n"
     ]
    }
   ]
  },
  {
   "cell_type": "markdown",
   "metadata": {
    "id": "goJriV4SUL4F",
    "colab_type": "text"
   },
   "source": [
    "## 3.3.2 뉴런 만들기"
   ]
  },
  {
   "cell_type": "code",
   "metadata": {
    "id": "ilkTV9SKmyP5",
    "colab_type": "code",
    "colab": {},
    "ExecuteTime": {
     "start_time": "2023-04-17T16:28:10.925244Z",
     "end_time": "2023-04-17T16:28:10.940896Z"
    }
   },
   "source": [
    "# 3.10 sigmoid 함수\n",
    "import math\n",
    "def sigmoid(x):\n",
    "    return 1 / (1 + math.exp(-x))"
   ],
   "execution_count": 36,
   "outputs": []
  },
  {
   "cell_type": "code",
   "metadata": {
    "id": "bmOY52Sj3p0a",
    "colab_type": "code",
    "outputId": "13582d69-c251-4c5c-c3f5-2ce1c2536992",
    "executionInfo": {
     "status": "ok",
     "timestamp": 1556809447757,
     "user_tz": -540,
     "elapsed": 824,
     "user": {
      "displayName": "Hwanhee Kim",
      "photoUrl": "https://lh6.googleusercontent.com/-nodxsDvEvZo/AAAAAAAAAAI/AAAAAAAABHE/Ybrj2myvr5Q/s64/photo.jpg",
      "userId": "04863080312902369470"
     }
    },
    "colab": {
     "base_uri": "https://localhost:8080/",
     "height": 35
    },
    "ExecuteTime": {
     "start_time": "2023-04-17T16:28:13.141627Z",
     "end_time": "2023-04-17T16:28:13.157275Z"
    }
   },
   "source": [
    "# 3.11 뉴런의 입력과 출력 정의\n",
    "x = 1\n",
    "y = 0\n",
    "w = tf.random.normal([1],0,1)\n",
    "output = sigmoid(x * w)\n",
    "print(output)"
   ],
   "execution_count": 37,
   "outputs": [
    {
     "name": "stdout",
     "output_type": "stream",
     "text": [
      "0.5514109784474435\n"
     ]
    }
   ]
  },
  {
   "cell_type": "code",
   "metadata": {
    "id": "SQOfPrld8cde",
    "colab_type": "code",
    "outputId": "007db597-d430-4e63-a6c4-ed8c5f001233",
    "executionInfo": {
     "status": "ok",
     "timestamp": 1556809450874,
     "user_tz": -540,
     "elapsed": 654,
     "user": {
      "displayName": "Hwanhee Kim",
      "photoUrl": "https://lh6.googleusercontent.com/-nodxsDvEvZo/AAAAAAAAAAI/AAAAAAAABHE/Ybrj2myvr5Q/s64/photo.jpg",
      "userId": "04863080312902369470"
     }
    },
    "colab": {
     "base_uri": "https://localhost:8080/",
     "height": 197
    },
    "ExecuteTime": {
     "start_time": "2023-04-17T16:28:15.647424Z",
     "end_time": "2023-04-17T16:28:15.830255Z"
    }
   },
   "source": [
    "# 3.12 경사 하강법을 이용한 뉴런의 학습!\n",
    "for i in range(1000):\n",
    "    output = sigmoid(x * w) #경사하강법. w를 계속 바꿈\n",
    "    error = y - output\n",
    "    w = w + x * 0.1 * error\n",
    "    \n",
    "    if i % 100 == 99:\n",
    "        print(i, error, output) # 0에 가까워짐. 학습률 : 계수 너무 작으면 완만히 감소, 0.5로 하니까 학습은 좋은데"
   ],
   "execution_count": 38,
   "outputs": [
    {
     "name": "stdout",
     "output_type": "stream",
     "text": [
      "99 -0.10576069472689943 0.10576069472689943\n",
      "199 -0.05333866950288452 0.05333866950288452\n",
      "299 -0.03528970386015525 0.03528970386015525\n",
      "399 -0.026282823355605455 0.026282823355605455\n",
      "499 -0.020909616158369938 0.020909616158369938\n",
      "599 -0.017347907857537214 0.017347907857537214\n",
      "699 -0.0148166763368775 0.0148166763368775\n",
      "799 -0.012926555810841543 0.012926555810841543\n",
      "899 -0.011462057517343109 0.011462057517343109\n",
      "999 -0.010294304105270062 0.010294304105270062\n"
     ]
    }
   ]
  },
  {
   "cell_type": "code",
   "metadata": {
    "id": "v6QTKN-Y_Pej",
    "colab_type": "code",
    "outputId": "eab797bb-27cf-4e76-e9e0-cfa33663b48e",
    "executionInfo": {
     "status": "ok",
     "timestamp": 1556809452957,
     "user_tz": -540,
     "elapsed": 885,
     "user": {
      "displayName": "Hwanhee Kim",
      "photoUrl": "https://lh6.googleusercontent.com/-nodxsDvEvZo/AAAAAAAAAAI/AAAAAAAABHE/Ybrj2myvr5Q/s64/photo.jpg",
      "userId": "04863080312902369470"
     }
    },
    "colab": {
     "base_uri": "https://localhost:8080/",
     "height": 197
    },
    "ExecuteTime": {
     "start_time": "2023-04-17T16:28:30.022297Z",
     "end_time": "2023-04-17T16:28:30.165344Z"
    }
   },
   "source": [
    "# 3.13 x=0 일 때 y=1 을 얻는 뉴런의 학습\n",
    "x = 0\n",
    "y = 1\n",
    "w = tf.random.normal([1],0,1)\n",
    "\n",
    "for i in range(1000):\n",
    "    output = sigmoid(x * w)\n",
    "    error = y - output\n",
    "    w = w + x * 0.1 * error\n",
    "    \n",
    "    if i % 100 == 99:\n",
    "        print(i, error, output)"
   ],
   "execution_count": 40,
   "outputs": [
    {
     "name": "stdout",
     "output_type": "stream",
     "text": [
      "99 0.5 0.5\n",
      "199 0.5 0.5\n",
      "299 0.5 0.5\n",
      "399 0.5 0.5\n",
      "499 0.5 0.5\n",
      "599 0.5 0.5\n",
      "699 0.5 0.5\n",
      "799 0.5 0.5\n",
      "899 0.5 0.5\n",
      "999 0.5 0.5\n"
     ]
    }
   ]
  },
  {
   "cell_type": "code",
   "metadata": {
    "id": "RDkgV0si_CEM",
    "colab_type": "code",
    "outputId": "bfc07d0d-f6c4-480a-c8d9-c3c98cae7b83",
    "executionInfo": {
     "status": "ok",
     "timestamp": 1557401303125,
     "user_tz": -540,
     "elapsed": 597,
     "user": {
      "displayName": "Hwanhee Kim",
      "photoUrl": "https://lh6.googleusercontent.com/-nodxsDvEvZo/AAAAAAAAAAI/AAAAAAAABHE/Ybrj2myvr5Q/s64/photo.jpg",
      "userId": "04863080312902369470"
     }
    },
    "colab": {
     "base_uri": "https://localhost:8080/",
     "height": 197
    },
    "ExecuteTime": {
     "start_time": "2023-04-17T16:28:32.773584Z",
     "end_time": "2023-04-17T16:28:33.075269Z"
    }
   },
   "source": [
    "# 3.14 x=0 일 때 y=1 을 얻는 뉴런의 학습에 편향을 더함\n",
    "x = 0\n",
    "y = 1\n",
    "w = tf.random.normal([1],0,1)\n",
    "b = tf.random.normal([1],0,1)\n",
    "\n",
    "for i in range(1000):\n",
    "    output = sigmoid(x * w + 1 * b)\n",
    "    error = y - output\n",
    "    w = w + x * 0.1 * error\n",
    "    b = b + 1 * 0.1 * error\n",
    "    \n",
    "    if i % 100 == 99:\n",
    "        print(i, error, output)"
   ],
   "execution_count": 41,
   "outputs": [
    {
     "name": "stdout",
     "output_type": "stream",
     "text": [
      "99 0.06982424941166532 0.9301757505883347\n",
      "199 0.042000315264753896 0.9579996847352461\n",
      "299 0.02987470898448441 0.9701252910155156\n",
      "399 0.023135622874373873 0.9768643771256261\n",
      "499 0.01885908320541463 0.9811409167945854\n",
      "599 0.015908325032529813 0.9840916749674702\n",
      "699 0.013751403685374752 0.9862485963146252\n",
      "799 0.012106954083655364 0.9878930459163446\n",
      "899 0.010812168872695316 0.9891878311273047\n",
      "999 0.00976653053660237 0.9902334694633976\n"
     ]
    }
   ]
  },
  {
   "cell_type": "markdown",
   "metadata": {
    "id": "6LBFLGQsUR2w",
    "colab_type": "text"
   },
   "source": [
    "## 3.3.3 첫번째 신경망 네트워크 : AND"
   ]
  },
  {
   "cell_type": "code",
   "metadata": {
    "id": "-SwLUNk1-VbY",
    "colab_type": "code",
    "outputId": "67856048-8e26-4085-91ad-326d3abb4ea4",
    "executionInfo": {
     "status": "ok",
     "timestamp": 1557401312495,
     "user_tz": -540,
     "elapsed": 602,
     "user": {
      "displayName": "Hwanhee Kim",
      "photoUrl": "https://lh6.googleusercontent.com/-nodxsDvEvZo/AAAAAAAAAAI/AAAAAAAABHE/Ybrj2myvr5Q/s64/photo.jpg",
      "userId": "04863080312902369470"
     }
    },
    "colab": {
     "base_uri": "https://localhost:8080/",
     "height": 53
    },
    "ExecuteTime": {
     "start_time": "2023-04-17T16:28:37.077815Z",
     "end_time": "2023-04-17T16:28:37.093411Z"
    }
   },
   "source": [
    "# 3.15 True, False 의 정수값 확인\n",
    "print(int(True))\n",
    "print(int(False))"
   ],
   "execution_count": 42,
   "outputs": [
    {
     "name": "stdout",
     "output_type": "stream",
     "text": [
      "1\n",
      "0\n"
     ]
    }
   ]
  },
  {
   "cell_type": "code",
   "metadata": {
    "id": "o5zrs_IeB6gn",
    "colab_type": "code",
    "outputId": "5743cab1-248d-4714-fea1-07c2dcc7702c",
    "executionInfo": {
     "status": "ok",
     "timestamp": 1557402692825,
     "user_tz": -540,
     "elapsed": 3175,
     "user": {
      "displayName": "Hwanhee Kim",
      "photoUrl": "https://lh6.googleusercontent.com/-nodxsDvEvZo/AAAAAAAAAAI/AAAAAAAABHE/Ybrj2myvr5Q/s64/photo.jpg",
      "userId": "04863080312902369470"
     }
    },
    "colab": {
     "base_uri": "https://localhost:8080/",
     "height": 197
    },
    "ExecuteTime": {
     "start_time": "2023-04-17T16:28:38.235234Z",
     "end_time": "2023-04-17T16:28:41.993616Z"
    }
   },
   "source": [
    "# 3.16 첫번째 신경망 네트워크 : AND\n",
    "import numpy as np\n",
    "x = np.array([[1,1], [1,0], [0,1], [0,0]])\n",
    "y = np.array([[1], [0], [0], [0]])\n",
    "w = tf.random.normal([2],0,1)\n",
    "b = tf.random.normal([1],0,1)\n",
    "b_x = 1\n",
    "\n",
    "for i in range(2000):\n",
    "    error_sum = 0\n",
    "    for j in range(4):\n",
    "        output = sigmoid(np.sum(x[j]*w)+b_x*b)\n",
    "        error = y[j][0] - output\n",
    "        w = w + x[j] * 0.1 * error\n",
    "        b = b + b_x * 0.1 * error\n",
    "        error_sum += error\n",
    "        \n",
    "    if i % 200 == 199:\n",
    "        print(i, error_sum)"
   ],
   "execution_count": 43,
   "outputs": [
    {
     "name": "stdout",
     "output_type": "stream",
     "text": [
      "199 -0.10353537463349087\n",
      "399 -0.06325825682236187\n",
      "599 -0.04541178042785667\n",
      "799 -0.03532019081314142\n",
      "999 -0.02884738911230255\n",
      "1199 -0.024353187407063274\n",
      "1399 -0.02105523084176622\n",
      "1599 -0.01853413209281267\n",
      "1799 -0.016546732689597984\n",
      "1999 -0.0149393773696009\n"
     ]
    }
   ]
  },
  {
   "cell_type": "code",
   "metadata": {
    "id": "hGV_LiKHfRFD",
    "colab_type": "code",
    "outputId": "7105ee4f-1544-4502-ed27-42da515aa54b",
    "executionInfo": {
     "status": "ok",
     "timestamp": 1557403799382,
     "user_tz": -540,
     "elapsed": 614,
     "user": {
      "displayName": "Hwanhee Kim",
      "photoUrl": "https://lh6.googleusercontent.com/-nodxsDvEvZo/AAAAAAAAAAI/AAAAAAAABHE/Ybrj2myvr5Q/s64/photo.jpg",
      "userId": "04863080312902369470"
     }
    },
    "colab": {
     "base_uri": "https://localhost:8080/",
     "height": 71
    },
    "ExecuteTime": {
     "start_time": "2023-04-17T16:39:40.800699Z",
     "end_time": "2023-04-17T16:39:40.816288Z"
    }
   },
   "source": [
    "# 3.17 파이썬에서 리스트에 정수를 곱하기\n",
    "print([1,2,3]*2)\n",
    "print([1,2,3]*0)\n",
    "print([1,2,3]*-1)"
   ],
   "execution_count": 44,
   "outputs": [
    {
     "name": "stdout",
     "output_type": "stream",
     "text": [
      "[1, 2, 3, 1, 2, 3]\n",
      "[]\n",
      "[]\n"
     ]
    }
   ]
  },
  {
   "cell_type": "code",
   "metadata": {
    "id": "IaXA9tVYgOKn",
    "colab_type": "code",
    "outputId": "df253579-d362-44a7-bd93-0c5f22f3d4f2",
    "executionInfo": {
     "status": "error",
     "timestamp": 1557403868664,
     "user_tz": -540,
     "elapsed": 648,
     "user": {
      "displayName": "Hwanhee Kim",
      "photoUrl": "https://lh6.googleusercontent.com/-nodxsDvEvZo/AAAAAAAAAAI/AAAAAAAABHE/Ybrj2myvr5Q/s64/photo.jpg",
      "userId": "04863080312902369470"
     }
    },
    "colab": {
     "base_uri": "https://localhost:8080/",
     "height": 172
    }
   },
   "source": [
    "# 3.18 파이썬에서 리스트에 실수를 곱하기\n",
    "print([1,2,3]*0.01)"
   ],
   "execution_count": 45,
   "outputs": [
    {
     "ename": "TypeError",
     "evalue": "can't multiply sequence by non-int of type 'float'",
     "output_type": "error",
     "traceback": [
      "\u001B[1;31m---------------------------------------------------------------------------\u001B[0m",
      "\u001B[1;31mTypeError\u001B[0m                                 Traceback (most recent call last)",
      "Cell \u001B[1;32mIn[45], line 2\u001B[0m\n\u001B[0;32m      1\u001B[0m \u001B[38;5;66;03m# 3.18 파이썬에서 리스트에 실수를 곱하기\u001B[39;00m\n\u001B[1;32m----> 2\u001B[0m \u001B[38;5;28mprint\u001B[39m(\u001B[43m[\u001B[49m\u001B[38;5;241;43m1\u001B[39;49m\u001B[43m,\u001B[49m\u001B[38;5;241;43m2\u001B[39;49m\u001B[43m,\u001B[49m\u001B[38;5;241;43m3\u001B[39;49m\u001B[43m]\u001B[49m\u001B[38;5;241;43m*\u001B[39;49m\u001B[38;5;241;43m0.01\u001B[39;49m)\n",
      "\u001B[1;31mTypeError\u001B[0m: can't multiply sequence by non-int of type 'float'"
     ]
    }
   ]
  },
  {
   "cell_type": "code",
   "metadata": {
    "id": "T6HVseMUfWRA",
    "colab_type": "code",
    "outputId": "d5ae6089-aaa4-486c-ae02-b82b28659acd",
    "executionInfo": {
     "status": "ok",
     "timestamp": 1557707424170,
     "user_tz": -540,
     "elapsed": 634,
     "user": {
      "displayName": "Hwanhee Kim",
      "photoUrl": "https://lh6.googleusercontent.com/-nodxsDvEvZo/AAAAAAAAAAI/AAAAAAAABHE/Ybrj2myvr5Q/s64/photo.jpg",
      "userId": "04863080312902369470"
     }
    },
    "colab": {
     "base_uri": "https://localhost:8080/",
     "height": 89
    },
    "ExecuteTime": {
     "start_time": "2023-04-17T16:39:42.521115Z",
     "end_time": "2023-04-17T16:39:42.539568Z"
    }
   },
   "source": [
    "# 3.19 넘파이 array 에 정수, 실수를 곱하기\n",
    "import numpy as np\n",
    "print(np.array([1,2,3])*2)\n",
    "print(np.array([1,2,3])*0)\n",
    "print(np.array([1,2,3])*-1)\n",
    "print(np.array([1,2,3])*0.01)"
   ],
   "execution_count": 46,
   "outputs": [
    {
     "name": "stdout",
     "output_type": "stream",
     "text": [
      "[2 4 6]\n",
      "[0 0 0]\n",
      "[-1 -2 -3]\n",
      "[0.01 0.02 0.03]\n"
     ]
    }
   ]
  },
  {
   "cell_type": "code",
   "metadata": {
    "id": "l6maf-59at7S",
    "colab_type": "code",
    "outputId": "96f9185f-f484-400c-b139-32b57e92bd49",
    "executionInfo": {
     "status": "ok",
     "timestamp": 1557402695010,
     "user_tz": -540,
     "elapsed": 984,
     "user": {
      "displayName": "Hwanhee Kim",
      "photoUrl": "https://lh6.googleusercontent.com/-nodxsDvEvZo/AAAAAAAAAAI/AAAAAAAABHE/Ybrj2myvr5Q/s64/photo.jpg",
      "userId": "04863080312902369470"
     }
    },
    "colab": {
     "base_uri": "https://localhost:8080/",
     "height": 89
    },
    "ExecuteTime": {
     "start_time": "2023-04-17T16:39:44.026043Z",
     "end_time": "2023-04-17T16:39:44.057302Z"
    }
   },
   "source": [
    "# 3.20 AND 네트워크의 평가\n",
    "for i in range(4):\n",
    "    print('X:', x[i], 'Y:', y[i], 'Output:', sigmoid(np.sum(x[i]*w)+b))"
   ],
   "execution_count": 47,
   "outputs": [
    {
     "name": "stdout",
     "output_type": "stream",
     "text": [
      "X: [1 1] Y: [1] Output: 0.9651236716426005\n",
      "X: [1 0] Y: [0] Output: 0.02471629202083639\n",
      "X: [0 1] Y: [0] Output: 0.024791588115787463\n",
      "X: [0 0] Y: [0] Output: 2.3280759474492546e-05\n"
     ]
    }
   ]
  },
  {
   "cell_type": "markdown",
   "metadata": {
    "id": "GYepj949D6nc",
    "colab_type": "text"
   },
   "source": [
    "## 3.3.4 두번째 신경망 네트워크 : OR"
   ]
  },
  {
   "cell_type": "code",
   "metadata": {
    "id": "orVUfaGAXEr5",
    "colab_type": "code",
    "outputId": "043c8e84-cf11-4432-ef50-aee3e69258f8",
    "executionInfo": {
     "status": "ok",
     "timestamp": 1557707165225,
     "user_tz": -540,
     "elapsed": 2656,
     "user": {
      "displayName": "Hwanhee Kim",
      "photoUrl": "https://lh6.googleusercontent.com/-nodxsDvEvZo/AAAAAAAAAAI/AAAAAAAABHE/Ybrj2myvr5Q/s64/photo.jpg",
      "userId": "04863080312902369470"
     }
    },
    "colab": {
     "base_uri": "https://localhost:8080/",
     "height": 197
    },
    "ExecuteTime": {
     "start_time": "2023-04-17T16:39:49.967561Z",
     "end_time": "2023-04-17T16:39:53.918060Z"
    }
   },
   "source": [
    "# 3.21 두번째 신경망 네트워크 : OR\n",
    "import numpy as np\n",
    "x = np.array([[1,1], [1,0], [0,1], [0,0]])\n",
    "y = np.array([[1], [1], [1], [0]])\n",
    "w = tf.random.normal([2],0,1)\n",
    "b = tf.random.normal([1],0,1)\n",
    "b_x = 1\n",
    "\n",
    "for i in range(2000):\n",
    "    error_sum = 0\n",
    "    for j in range(4):\n",
    "        output = sigmoid(np.sum(x[j]*w)+b_x*b)\n",
    "        error = y[j][0] - output\n",
    "        w = w + x[j] * 0.1 * error\n",
    "        b = b + b_x * 0.1 * error\n",
    "        error_sum += error\n",
    "        \n",
    "    if i % 200 == 199:\n",
    "        print(i, error_sum)"
   ],
   "execution_count": 48,
   "outputs": [
    {
     "name": "stdout",
     "output_type": "stream",
     "text": [
      "199 -0.04834720794367389\n",
      "399 -0.025564013461328666\n",
      "599 -0.017255562476024916\n",
      "799 -0.012977126330059985\n",
      "999 -0.010380038661857723\n",
      "1199 -0.008640140608186415\n",
      "1399 -0.007395257915353816\n",
      "1599 -0.006460835212571472\n",
      "1799 -0.005734921995531293\n",
      "1999 -0.005153211249182603\n"
     ]
    }
   ]
  },
  {
   "cell_type": "code",
   "metadata": {
    "id": "-iXp-4VflRwi",
    "colab_type": "code",
    "outputId": "e56e22ee-ebc3-4772-b83c-9a8e5c7db961",
    "executionInfo": {
     "status": "ok",
     "timestamp": 1557707434897,
     "user_tz": -540,
     "elapsed": 639,
     "user": {
      "displayName": "Hwanhee Kim",
      "photoUrl": "https://lh6.googleusercontent.com/-nodxsDvEvZo/AAAAAAAAAAI/AAAAAAAABHE/Ybrj2myvr5Q/s64/photo.jpg",
      "userId": "04863080312902369470"
     }
    },
    "colab": {
     "base_uri": "https://localhost:8080/",
     "height": 89
    },
    "ExecuteTime": {
     "start_time": "2023-04-17T16:40:00.355659Z",
     "end_time": "2023-04-17T16:40:00.371287Z"
    }
   },
   "source": [
    "# 3.22 OR 네트워크의 평가\n",
    "for i in range(4):\n",
    "    print('X:', x[i], 'Y:', y[i], 'Output:', sigmoid(np.sum(x[i]*w)+b))"
   ],
   "execution_count": 49,
   "outputs": [
    {
     "name": "stdout",
     "output_type": "stream",
     "text": [
      "X: [1 1] Y: [1] Output: 0.9999971997472389\n",
      "X: [1 0] Y: [1] Output: 0.9897803494913546\n",
      "X: [0 1] Y: [1] Output: 0.9897621689292985\n",
      "X: [0 0] Y: [0] Output: 0.02554956234188547\n"
     ]
    }
   ]
  },
  {
   "cell_type": "markdown",
   "metadata": {
    "id": "QgOO48DlEELV",
    "colab_type": "text"
   },
   "source": [
    "## 3.3.5 세번째 신경망 네트워크 : XOR"
   ]
  },
  {
   "cell_type": "code",
   "metadata": {
    "id": "50OujnLhouap",
    "colab_type": "code",
    "outputId": "c5b01dad-39e7-467c-b677-a52a82a20abe",
    "executionInfo": {
     "status": "ok",
     "timestamp": 1557708084919,
     "user_tz": -540,
     "elapsed": 2494,
     "user": {
      "displayName": "Hwanhee Kim",
      "photoUrl": "https://lh6.googleusercontent.com/-nodxsDvEvZo/AAAAAAAAAAI/AAAAAAAABHE/Ybrj2myvr5Q/s64/photo.jpg",
      "userId": "04863080312902369470"
     }
    },
    "colab": {
     "base_uri": "https://localhost:8080/",
     "height": 197
    },
    "ExecuteTime": {
     "start_time": "2023-04-17T16:41:50.037469Z",
     "end_time": "2023-04-17T16:41:53.838326Z"
    }
   },
   "source": [
    "# 3.23 세번째 신경망 네트워크 : XOR\n",
    "import numpy as np\n",
    "x = np.array([[1,1], [1,0], [0,1], [0,0]])\n",
    "y = np.array([[0], [1], [1], [0]]) # y만 달라짐\n",
    "w = tf.random.normal([2],0,1)\n",
    "b = tf.random.normal([1],0,1)\n",
    "b_x = 1\n",
    "\n",
    "for i in range(2000):\n",
    "    error_sum = 0\n",
    "    for j in range(4):\n",
    "        output = sigmoid(np.sum(x[j]*w)+b_x*b)\n",
    "        error = y[j][0] - output\n",
    "        w = w + x[j] * 0.1 * error\n",
    "        b = b + b_x * 0.1 * error\n",
    "        error_sum += error\n",
    "        \n",
    "    if i % 200 == 199:\n",
    "        print(i, error_sum) #학습 안됨"
   ],
   "execution_count": 52,
   "outputs": [
    {
     "name": "stdout",
     "output_type": "stream",
     "text": [
      "199 0.00039434356887790845\n",
      "399 1.602687992208196e-05\n",
      "599 6.552202997944789e-07\n",
      "799 1.8614211283463078e-09\n",
      "999 1.8614210173240053e-09\n",
      "1199 1.8614210173240053e-09\n",
      "1399 1.8614210173240053e-09\n",
      "1599 1.8614210173240053e-09\n",
      "1799 1.8614210173240053e-09\n",
      "1999 1.8614210173240053e-09\n"
     ]
    }
   ]
  },
  {
   "cell_type": "code",
   "metadata": {
    "id": "K77eQ8FYo04H",
    "colab_type": "code",
    "outputId": "6fbb92d4-5d90-4dc6-d63e-9fee59d17ef9",
    "executionInfo": {
     "status": "ok",
     "timestamp": 1557708105621,
     "user_tz": -540,
     "elapsed": 637,
     "user": {
      "displayName": "Hwanhee Kim",
      "photoUrl": "https://lh6.googleusercontent.com/-nodxsDvEvZo/AAAAAAAAAAI/AAAAAAAABHE/Ybrj2myvr5Q/s64/photo.jpg",
      "userId": "04863080312902369470"
     }
    },
    "colab": {
     "base_uri": "https://localhost:8080/",
     "height": 89
    },
    "ExecuteTime": {
     "start_time": "2023-04-17T16:41:59.085586Z",
     "end_time": "2023-04-17T16:41:59.093564Z"
    }
   },
   "source": [
    "# 3.24 XOR 네트워크의 평가\n",
    "for i in range(4):\n",
    "    print('X:', x[i], 'Y:', y[i], 'Output:', sigmoid(np.sum(x[i]*w)+b)) #학습 실패"
   ],
   "execution_count": 53,
   "outputs": [
    {
     "name": "stdout",
     "output_type": "stream",
     "text": [
      "X: [1 1] Y: [0] Output: 0.5128176323940516\n",
      "X: [1 0] Y: [1] Output: 0.5128176314633411\n",
      "X: [0 1] Y: [1] Output: 0.4999999990686774\n",
      "X: [0 0] Y: [0] Output: 0.49999999813735485\n"
     ]
    }
   ]
  },
  {
   "cell_type": "code",
   "metadata": {
    "id": "0HsT3BKW1ajx",
    "colab_type": "code",
    "outputId": "d135ba44-6caa-46e6-facf-802fb75cdce8",
    "executionInfo": {
     "status": "ok",
     "timestamp": 1557711429852,
     "user_tz": -540,
     "elapsed": 665,
     "user": {
      "displayName": "Hwanhee Kim",
      "photoUrl": "https://lh6.googleusercontent.com/-nodxsDvEvZo/AAAAAAAAAAI/AAAAAAAABHE/Ybrj2myvr5Q/s64/photo.jpg",
      "userId": "04863080312902369470"
     }
    },
    "colab": {
     "base_uri": "https://localhost:8080/",
     "height": 53
    },
    "ExecuteTime": {
     "start_time": "2023-04-17T16:42:57.690038Z",
     "end_time": "2023-04-17T16:42:57.696992Z"
    }
   },
   "source": [
    "# 3.25 XOR 네트워크의 w, b 값 확인\n",
    "print('w:', w)\n",
    "print('b:', b)"
   ],
   "execution_count": 54,
   "outputs": [
    {
     "name": "stdout",
     "output_type": "stream",
     "text": [
      "w: tf.Tensor([5.1281769e-02 3.7252903e-09], shape=(2,), dtype=float32)\n",
      "b: tf.Tensor([-7.450581e-09], shape=(1,), dtype=float32)\n"
     ]
    }
   ]
  },
  {
   "cell_type": "code",
   "metadata": {
    "id": "s-JnstrlDeXR",
    "colab_type": "code",
    "colab": {}
   },
   "source": [
    "# 3.26 AND 네트워크의 w, b 값 확인\n",
    "# w: tf.Tensor([6.9484286 6.951607 ], shape=(2,), dtype=float32)\n",
    "# b: tf.Tensor([-10.601849], shape=(1,), dtype=float32)"
   ],
   "execution_count": 0,
   "outputs": []
  },
  {
   "cell_type": "code",
   "metadata": {
    "id": "mmyyA5XpEdBj",
    "colab_type": "code",
    "outputId": "eb60a35e-be66-4857-e1d4-fdcca6f1d81d",
    "executionInfo": {
     "status": "ok",
     "timestamp": 1558017514570,
     "user_tz": -540,
     "elapsed": 843,
     "user": {
      "displayName": "Hwanhee Kim",
      "photoUrl": "https://lh6.googleusercontent.com/-nodxsDvEvZo/AAAAAAAAAAI/AAAAAAAABHE/Ybrj2myvr5Q/s64/photo.jpg",
      "userId": "04863080312902369470"
     }
    },
    "colab": {
     "base_uri": "https://localhost:8080/",
     "height": 233
    },
    "ExecuteTime": {
     "start_time": "2023-04-17T17:03:23.873269Z",
     "end_time": "2023-04-17T17:03:23.920136Z"
    }
   },
   "source": [
    "# 3.27 tf.keras 를 이용한 XOR 네트워크 계산\n",
    "import numpy as np\n",
    "x = np.array([[1,1], [1,0], [0,1], [0,0]])\n",
    "y = np.array([[0], [1], [1], [0]])\n",
    "\n",
    "model = tf.keras.Sequential([\n",
    "    tf.keras.layers.Dense(units=2, activation='sigmoid', input_shape=(2,)),\n",
    "    tf.keras.layers.Dense(units=1, activation='sigmoid')\n",
    "])\n",
    "\n",
    "model.compile(optimizer=tf.keras.optimizers.SGD(lr=0.3), loss='mse') #경사하강법 문제 해결\n",
    "\n",
    "model.summary()"
   ],
   "execution_count": 71,
   "outputs": []
  },
  {
   "cell_type": "code",
   "metadata": {
    "id": "Bo-9gEOmh8L-",
    "colab_type": "code",
    "outputId": "50a9b20a-499c-4070-8dc3-bc6a2b198b0e",
    "executionInfo": {
     "status": "ok",
     "timestamp": 1558017536498,
     "user_tz": -540,
     "elapsed": 21465,
     "user": {
      "displayName": "Hwanhee Kim",
      "photoUrl": "https://lh6.googleusercontent.com/-nodxsDvEvZo/AAAAAAAAAAI/AAAAAAAABHE/Ybrj2myvr5Q/s64/photo.jpg",
      "userId": "04863080312902369470"
     }
    },
    "colab": {
     "base_uri": "https://localhost:8080/",
     "height": 72017
    },
    "ExecuteTime": {
     "start_time": "2023-04-17T17:03:25.042634Z",
     "end_time": "2023-04-17T17:03:34.501338Z"
    }
   },
   "source": [
    "# 3.28 tf.keras 를 이용한 XOR 네트워크 학습\n",
    "history = model.fit(x, y, epochs=2000, batch_size=1)"
   ],
   "execution_count": 72,
   "outputs": []
  },
  {
   "cell_type": "code",
   "metadata": {
    "id": "3AqRMyHhTOcB",
    "colab_type": "code",
    "outputId": "ef451b00-87a7-49cf-815c-d9ff1e5b59c5",
    "executionInfo": {
     "status": "ok",
     "timestamp": 1557931762342,
     "user_tz": -540,
     "elapsed": 592,
     "user": {
      "displayName": "Hwanhee Kim",
      "photoUrl": "https://lh6.googleusercontent.com/-nodxsDvEvZo/AAAAAAAAAAI/AAAAAAAABHE/Ybrj2myvr5Q/s64/photo.jpg",
      "userId": "04863080312902369470"
     }
    },
    "colab": {
     "base_uri": "https://localhost:8080/",
     "height": 89
    },
    "ExecuteTime": {
     "start_time": "2023-04-17T17:03:39.924848Z",
     "end_time": "2023-04-17T17:03:40.002931Z"
    }
   },
   "source": [
    "# 3.29 tf.keras 를 이용한 XOR 네트워크 평가\n",
    "model.predict(x)"
   ],
   "execution_count": 73,
   "outputs": []
  },
  {
   "cell_type": "code",
   "metadata": {
    "id": "6PWc0Lai_ceb",
    "colab_type": "code",
    "outputId": "877eb51b-c196-4c6d-8980-e8cd5ae5252e",
    "executionInfo": {
     "status": "ok",
     "timestamp": 1557932204197,
     "user_tz": -540,
     "elapsed": 614,
     "user": {
      "displayName": "Hwanhee Kim",
      "photoUrl": "https://lh6.googleusercontent.com/-nodxsDvEvZo/AAAAAAAAAAI/AAAAAAAABHE/Ybrj2myvr5Q/s64/photo.jpg",
      "userId": "04863080312902369470"
     }
    },
    "colab": {
     "base_uri": "https://localhost:8080/",
     "height": 161
    },
    "ExecuteTime": {
     "start_time": "2023-04-17T17:04:14.281730Z",
     "end_time": "2023-04-17T17:04:14.297449Z"
    }
   },
   "source": [
    "# 3.30 XOR 네트워크의 가중치와 편향 확인\n",
    "for weight in model.weights:\n",
    "    print(weight)"
   ],
   "execution_count": 74,
   "outputs": []
  },
  {
   "cell_type": "markdown",
   "metadata": {
    "id": "VW1-cpOCIbD_",
    "colab_type": "text"
   },
   "source": [
    "# 3.4 시각화 기초"
   ]
  },
  {
   "cell_type": "markdown",
   "metadata": {
    "id": "VaFmWABsIei2",
    "colab_type": "text"
   },
   "source": [
    "## 3.4.1\tmatplotlib.pyplot 을 사용한 그래프 그리기"
   ]
  },
  {
   "cell_type": "code",
   "metadata": {
    "id": "mYmyzli4Fy9T",
    "colab_type": "code",
    "outputId": "822f10a4-0380-4ece-b836-7b3c796e64f3",
    "executionInfo": {
     "status": "ok",
     "timestamp": 1558016523342,
     "user_tz": -540,
     "elapsed": 80733,
     "user": {
      "displayName": "Hwanhee Kim",
      "photoUrl": "https://lh6.googleusercontent.com/-nodxsDvEvZo/AAAAAAAAAAI/AAAAAAAABHE/Ybrj2myvr5Q/s64/photo.jpg",
      "userId": "04863080312902369470"
     }
    },
    "colab": {
     "base_uri": "https://localhost:8080/",
     "height": 269
    },
    "ExecuteTime": {
     "start_time": "2023-04-17T17:17:05.199572Z",
     "end_time": "2023-04-17T17:17:05.925876Z"
    }
   },
   "source": [
    "# 3.31 간단한 꺾은선 그래프 그리기\n",
    "import matplotlib.pyplot as plt\n",
    "x = range(20)\n",
    "y = tf.random.normal([20],0,1)\n",
    "plt.plot(x,y)\n",
    "plt.show()"
   ],
   "execution_count": 75,
   "outputs": []
  },
  {
   "cell_type": "code",
   "metadata": {
    "id": "qSwyczRFA2_D",
    "colab_type": "code",
    "outputId": "ff2be61f-089a-4580-d5ba-0450a6fc52f0",
    "executionInfo": {
     "status": "ok",
     "timestamp": 1558016658121,
     "user_tz": -540,
     "elapsed": 629,
     "user": {
      "displayName": "Hwanhee Kim",
      "photoUrl": "https://lh6.googleusercontent.com/-nodxsDvEvZo/AAAAAAAAAAI/AAAAAAAABHE/Ybrj2myvr5Q/s64/photo.jpg",
      "userId": "04863080312902369470"
     }
    },
    "colab": {
     "base_uri": "https://localhost:8080/",
     "height": 270
    },
    "ExecuteTime": {
     "start_time": "2023-04-17T17:17:57.860447Z",
     "end_time": "2023-04-17T17:17:57.973145Z"
    }
   },
   "source": [
    "# 3.32 간단한 점 그래프 그리기\n",
    "import matplotlib.pyplot as plt\n",
    "x = range(20)\n",
    "y = tf.random.normal([20],0,1)\n",
    "plt.plot(x,y,'bo')\n",
    "plt.show()"
   ],
   "execution_count": 80,
   "outputs": []
  },
  {
   "cell_type": "code",
   "metadata": {
    "id": "QzM-W2p8B_Rz",
    "colab_type": "code",
    "outputId": "0beebd52-ecae-48bd-c538-0305800ce458",
    "executionInfo": {
     "status": "ok",
     "timestamp": 1558017351627,
     "user_tz": -540,
     "elapsed": 998,
     "user": {
      "displayName": "Hwanhee Kim",
      "photoUrl": "https://lh6.googleusercontent.com/-nodxsDvEvZo/AAAAAAAAAAI/AAAAAAAABHE/Ybrj2myvr5Q/s64/photo.jpg",
      "userId": "04863080312902369470"
     }
    },
    "colab": {
     "base_uri": "https://localhost:8080/",
     "height": 269
    }
   },
   "source": [
    "# 3.33 정규분포 그래프를 히스토그램으로 나타내기\n",
    "import matplotlib.pyplot as plt\n",
    "random_normal = tf.random.normal([100000],0,1)\n",
    "plt.hist(random_normal, bins=100)\n",
    "plt.show()"
   ],
   "execution_count": 0,
   "outputs": [
    {
     "output_type": "display_data",
     "data": {
      "image/png": "[encoded data removed]",
      "text/plain": [
       "<Figure size 432x288 with 1 Axes>"
      ]
     },
     "metadata": {
      "tags": []
     }
    }
   ]
  },
  {
   "cell_type": "markdown",
   "metadata": {
    "id": "eOwSWsJNI_Ee",
    "colab_type": "text"
   },
   "source": [
    "## 3.4.2 2-레이어 XOR 네트워크의 정보 시각화"
   ]
  },
  {
   "cell_type": "code",
   "metadata": {
    "id": "_22lpXzKCHhs",
    "colab_type": "code",
    "outputId": "89a2011f-94dd-4c4e-924e-e47998d80e33",
    "executionInfo": {
     "status": "ok",
     "timestamp": 1558017603973,
     "user_tz": -540,
     "elapsed": 649,
     "user": {
      "displayName": "Hwanhee Kim",
      "photoUrl": "https://lh6.googleusercontent.com/-nodxsDvEvZo/AAAAAAAAAAI/AAAAAAAABHE/Ybrj2myvr5Q/s64/photo.jpg",
      "userId": "04863080312902369470"
     }
    },
    "colab": {
     "base_uri": "https://localhost:8080/",
     "height": 287
    }
   },
   "source": [
    "# 3.34 2-레이어 XOR 네트워크의 loss 변화를 선 그래프로 표시\n",
    "import matplotlib.pyplot as plt\n",
    "plt.plot(history.history['loss'])"
   ],
   "execution_count": 0,
   "outputs": [
    {
     "output_type": "execute_result",
     "data": {
      "text/plain": [
       "[<matplotlib.lines.Line2D at 0x7fb84672d8d0>]"
      ]
     },
     "metadata": {
      "tags": []
     },
     "execution_count": 35
    },
    {
     "output_type": "display_data",
     "data": {
      "image/png": "[encoded data removed]",
      "text/plain": [
       "<Figure size 432x288 with 1 Axes>"
      ]
     },
     "metadata": {
      "tags": []
     }
    }
   ]
  }
 ]
}
